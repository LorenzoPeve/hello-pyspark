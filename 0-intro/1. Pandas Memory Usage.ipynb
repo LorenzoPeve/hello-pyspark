{
 "cells": [
  {
   "cell_type": "markdown",
   "metadata": {
    "application/vnd.databricks.v1+cell": {
     "cellMetadata": {
      "byteLimit": 2048000,
      "rowLimit": 10000
     },
     "inputWidgets": {},
     "nuid": "f020695a-384e-4fd8-aefb-2281663b94d1",
     "showTitle": false,
     "tableResultSettingsMap": {},
     "title": ""
    }
   },
   "source": [
    "## Importing Libraries"
   ]
  },
  {
   "cell_type": "code",
   "execution_count": 0,
   "metadata": {
    "application/vnd.databricks.v1+cell": {
     "cellMetadata": {
      "byteLimit": 2048000,
      "rowLimit": 10000
     },
     "inputWidgets": {},
     "nuid": "b64040d1-9e02-4f65-aacf-477eb46ab897",
     "showTitle": false,
     "tableResultSettingsMap": {},
     "title": ""
    }
   },
   "outputs": [],
   "source": [
    "import pandas as pd\n",
    "import numpy as np\n",
    "from datetime import datetime, timedelta\n",
    "import time\n",
    "np.random.seed(42)"
   ]
  },
  {
   "cell_type": "markdown",
   "metadata": {
    "application/vnd.databricks.v1+cell": {
     "cellMetadata": {
      "byteLimit": 2048000,
      "rowLimit": 10000
     },
     "inputWidgets": {},
     "nuid": "7e03b4a8-58c2-4fbb-b3e9-73acafbc1bbf",
     "showTitle": false,
     "tableResultSettingsMap": {},
     "title": ""
    }
   },
   "source": [
    "### Pandas memory usage"
   ]
  },
  {
   "cell_type": "code",
   "execution_count": 0,
   "metadata": {
    "application/vnd.databricks.v1+cell": {
     "cellMetadata": {
      "byteLimit": 2048000,
      "rowLimit": 10000
     },
     "inputWidgets": {},
     "nuid": "25546db3-8ff4-482b-bf4b-c18dd9d4467e",
     "showTitle": false,
     "tableResultSettingsMap": {},
     "title": ""
    }
   },
   "outputs": [],
   "source": [
    "def generate_synthetic_data(num_records) -> pd.DataFrame:\n",
    "    \"\"\"\n",
    "    Generates a synthetic dataset of customer transactions.\n",
    "\n",
    "    Args:\n",
    "        num_records (int): The number of records to generate.\n",
    "\n",
    "    Returns:\n",
    "        pd.DataFrame: A DataFrame containing the synthetic data with the following columns:\n",
    "            - customer_id (int): A randomly generated customer ID.\n",
    "            - category (str): A randomly chosen category from a predefined list.\n",
    "            - amount (float): A transaction amount generated from a normal distribution with a mean of 100 and a standard deviation of 50.\n",
    "            - transaction_date (datetime): A transaction date randomly chosen within the last year.\n",
    "    \"\"\" \n",
    "    categories = ['Electronics', 'Clothing', 'Food', 'Books', 'Home']\n",
    "    customer_ids = np.random.randint(1, 10000, num_records)\n",
    "    categories = np.random.choice(categories, num_records)\n",
    "    amounts = np.random.normal(100, 50, num_records)  # Mean of 100, std dev of 50\n",
    "    dates = [datetime.now() - timedelta(days=int(x)) for x in np.random.randint(0, 365, num_records)]\n",
    "\n",
    "    return pd.DataFrame({\n",
    "        'customer_id': customer_ids,\n",
    "        'category': categories,\n",
    "        'amount': amounts,\n",
    "        'transaction_date': dates\n",
    "    })\n"
   ]
  },
  {
   "cell_type": "code",
   "execution_count": 0,
   "metadata": {
    "application/vnd.databricks.v1+cell": {
     "cellMetadata": {
      "byteLimit": 2048000,
      "rowLimit": 10000
     },
     "inputWidgets": {},
     "nuid": "4d282e3a-761c-4617-aabe-dce5ee112ea3",
     "showTitle": false,
     "tableResultSettingsMap": {},
     "title": ""
    }
   },
   "outputs": [
    {
     "output_type": "execute_result",
     "data": {
      "text/html": [
       "<div>\n",
       "<style scoped>\n",
       "    .dataframe tbody tr th:only-of-type {\n",
       "        vertical-align: middle;\n",
       "    }\n",
       "\n",
       "    .dataframe tbody tr th {\n",
       "        vertical-align: top;\n",
       "    }\n",
       "\n",
       "    .dataframe thead th {\n",
       "        text-align: right;\n",
       "    }\n",
       "</style>\n",
       "<table border=\"1\" class=\"dataframe\">\n",
       "  <thead>\n",
       "    <tr style=\"text-align: right;\">\n",
       "      <th></th>\n",
       "      <th>customer_id</th>\n",
       "      <th>category</th>\n",
       "      <th>amount</th>\n",
       "      <th>transaction_date</th>\n",
       "    </tr>\n",
       "  </thead>\n",
       "  <tbody>\n",
       "    <tr>\n",
       "      <th>0</th>\n",
       "      <td>7271</td>\n",
       "      <td>Books</td>\n",
       "      <td>107.123230</td>\n",
       "      <td>2024-12-26 23:27:18.782482</td>\n",
       "    </tr>\n",
       "    <tr>\n",
       "      <th>1</th>\n",
       "      <td>861</td>\n",
       "      <td>Home</td>\n",
       "      <td>98.267391</td>\n",
       "      <td>2024-11-04 23:27:18.782494</td>\n",
       "    </tr>\n",
       "    <tr>\n",
       "      <th>2</th>\n",
       "      <td>5391</td>\n",
       "      <td>Electronics</td>\n",
       "      <td>156.716963</td>\n",
       "      <td>2024-06-03 23:27:18.782495</td>\n",
       "    </tr>\n",
       "    <tr>\n",
       "      <th>3</th>\n",
       "      <td>5192</td>\n",
       "      <td>Books</td>\n",
       "      <td>94.762723</td>\n",
       "      <td>2024-04-14 23:27:18.782497</td>\n",
       "    </tr>\n",
       "    <tr>\n",
       "      <th>4</th>\n",
       "      <td>5735</td>\n",
       "      <td>Clothing</td>\n",
       "      <td>73.743857</td>\n",
       "      <td>2024-08-11 23:27:18.782498</td>\n",
       "    </tr>\n",
       "    <tr>\n",
       "      <th>5</th>\n",
       "      <td>6266</td>\n",
       "      <td>Home</td>\n",
       "      <td>195.638564</td>\n",
       "      <td>2024-07-15 23:27:18.782499</td>\n",
       "    </tr>\n",
       "    <tr>\n",
       "      <th>6</th>\n",
       "      <td>467</td>\n",
       "      <td>Books</td>\n",
       "      <td>-1.335981</td>\n",
       "      <td>2025-01-05 23:27:18.782500</td>\n",
       "    </tr>\n",
       "    <tr>\n",
       "      <th>7</th>\n",
       "      <td>4427</td>\n",
       "      <td>Electronics</td>\n",
       "      <td>155.971181</td>\n",
       "      <td>2024-09-09 23:27:18.782502</td>\n",
       "    </tr>\n",
       "    <tr>\n",
       "      <th>8</th>\n",
       "      <td>5579</td>\n",
       "      <td>Electronics</td>\n",
       "      <td>138.959632</td>\n",
       "      <td>2024-07-31 23:27:18.782503</td>\n",
       "    </tr>\n",
       "    <tr>\n",
       "      <th>9</th>\n",
       "      <td>8323</td>\n",
       "      <td>Food</td>\n",
       "      <td>44.945112</td>\n",
       "      <td>2024-05-24 23:27:18.782505</td>\n",
       "    </tr>\n",
       "    <tr>\n",
       "      <th>10</th>\n",
       "      <td>1686</td>\n",
       "      <td>Food</td>\n",
       "      <td>156.511410</td>\n",
       "      <td>2024-03-04 23:27:18.782506</td>\n",
       "    </tr>\n",
       "    <tr>\n",
       "      <th>11</th>\n",
       "      <td>770</td>\n",
       "      <td>Clothing</td>\n",
       "      <td>118.655946</td>\n",
       "      <td>2024-04-20 23:27:18.782508</td>\n",
       "    </tr>\n",
       "    <tr>\n",
       "      <th>12</th>\n",
       "      <td>6950</td>\n",
       "      <td>Books</td>\n",
       "      <td>80.676352</td>\n",
       "      <td>2024-05-23 23:27:18.782509</td>\n",
       "    </tr>\n",
       "    <tr>\n",
       "      <th>13</th>\n",
       "      <td>2434</td>\n",
       "      <td>Books</td>\n",
       "      <td>42.061488</td>\n",
       "      <td>2024-07-18 23:27:18.782510</td>\n",
       "    </tr>\n",
       "    <tr>\n",
       "      <th>14</th>\n",
       "      <td>5312</td>\n",
       "      <td>Food</td>\n",
       "      <td>128.305641</td>\n",
       "      <td>2024-06-11 23:27:18.782511</td>\n",
       "    </tr>\n",
       "  </tbody>\n",
       "</table>\n",
       "</div>"
      ],
      "text/plain": [
       "    customer_id     category      amount           transaction_date\n",
       "0          7271        Books  107.123230 2024-12-26 23:27:18.782482\n",
       "1           861         Home   98.267391 2024-11-04 23:27:18.782494\n",
       "2          5391  Electronics  156.716963 2024-06-03 23:27:18.782495\n",
       "3          5192        Books   94.762723 2024-04-14 23:27:18.782497\n",
       "4          5735     Clothing   73.743857 2024-08-11 23:27:18.782498\n",
       "5          6266         Home  195.638564 2024-07-15 23:27:18.782499\n",
       "6           467        Books   -1.335981 2025-01-05 23:27:18.782500\n",
       "7          4427  Electronics  155.971181 2024-09-09 23:27:18.782502\n",
       "8          5579  Electronics  138.959632 2024-07-31 23:27:18.782503\n",
       "9          8323         Food   44.945112 2024-05-24 23:27:18.782505\n",
       "10         1686         Food  156.511410 2024-03-04 23:27:18.782506\n",
       "11          770     Clothing  118.655946 2024-04-20 23:27:18.782508\n",
       "12         6950        Books   80.676352 2024-05-23 23:27:18.782509\n",
       "13         2434        Books   42.061488 2024-07-18 23:27:18.782510\n",
       "14         5312         Food  128.305641 2024-06-11 23:27:18.782511"
      ]
     },
     "execution_count": 3,
     "metadata": {},
     "output_type": "execute_result"
    }
   ],
   "source": [
    "generate_synthetic_data(15)"
   ]
  },
  {
   "cell_type": "code",
   "execution_count": 0,
   "metadata": {
    "application/vnd.databricks.v1+cell": {
     "cellMetadata": {
      "byteLimit": 2048000,
      "rowLimit": 10000
     },
     "inputWidgets": {},
     "nuid": "ae5c85ef-ca6f-434e-bc39-d5bb890dd511",
     "showTitle": false,
     "tableResultSettingsMap": {},
     "title": ""
    }
   },
   "outputs": [],
   "source": [
    "def compare_pandas_storage(sizes: list[int], column_info: bool = False) -> None:\n",
    "    \"\"\"\n",
    "    Compares the memory usage of pandas DataFrames with different sizes of synthetic data.\n",
    "    This function generates synthetic data for various sizes.\n",
    "\n",
    "    The sizes of the datasets are defined in the `sizes` list, and the memory usage is\n",
    "    reported in megabytes (MB).\n",
    "    \"\"\"\n",
    "    for size in sizes:\n",
    "        start_time = time.time()\n",
    "        df = generate_synthetic_data(size)\n",
    "        end_time = time.time()\n",
    "        creation_time = end_time - start_time\n",
    "        \n",
    "        memory_usage = df.memory_usage(deep=True).sum() / (1024 * 1024)  # Convert to MB\n",
    "        print(f\"\\nDataset with {size:,} records:\")\n",
    "        print(f\"Memory usage: {memory_usage:.2f} MB\")\n",
    "        print(f\"Data creation time: {creation_time:.2f} seconds\")\n",
    "        \n",
    "        if column_info:\n",
    "            print(\"\\nMemory usage by column:\")\n",
    "            for column in df.columns:\n",
    "                column_memory = df[column].memory_usage(deep=True) / (1024 * 1024)\n",
    "                print(f\"{column}: {column_memory:.2f} MB\")\n",
    "\n",
    "def pandas_analysis(df):\n",
    "    \"\"\"Perform analysis using Pandas\"\"\"\n",
    "    start_time = time.time()\n",
    "    \n",
    "    # Calculate average amount by category\n",
    "    result = df.groupby('category')['amount'].agg(['mean', 'count']).reset_index()\n",
    "    print(result)\n",
    "    \n",
    "    end_time = time.time()\n",
    "    processing_time = end_time - start_time\n",
    "    \n",
    "    return result, processing_time"
   ]
  },
  {
   "cell_type": "code",
   "execution_count": 0,
   "metadata": {
    "application/vnd.databricks.v1+cell": {
     "cellMetadata": {
      "byteLimit": 2048000,
      "rowLimit": 10000
     },
     "inputWidgets": {},
     "nuid": "894e8802-2a17-4ba6-8afc-4d62d02fdfd8",
     "showTitle": false,
     "tableResultSettingsMap": {},
     "title": ""
    }
   },
   "outputs": [
    {
     "output_type": "stream",
     "name": "stdout",
     "output_type": "stream",
     "text": [
      "\nDataset with 10,000 records:\nMemory usage: 0.83 MB\nData creation time: 0.02 seconds\n\nDataset with 100,000 records:\nMemory usage: 8.33 MB\nData creation time: 0.23 seconds\n\nDataset with 1,000,000 records:\nMemory usage: 83.35 MB\nData creation time: 2.15 seconds\n"
     ]
    }
   ],
   "source": [
    "compare_pandas_storage([10_000, 100_000, 1_000_000])\n"
   ]
  },
  {
   "cell_type": "code",
   "execution_count": 0,
   "metadata": {
    "application/vnd.databricks.v1+cell": {
     "cellMetadata": {
      "byteLimit": 2048000,
      "rowLimit": 10000
     },
     "inputWidgets": {},
     "nuid": "208b3958-f597-4134-84b8-2318c22a7e20",
     "showTitle": false,
     "tableResultSettingsMap": {},
     "title": ""
    }
   },
   "outputs": [
    {
     "output_type": "display_data",
     "data": {
      "text/plain": [
       "\u001B[0;31m---------------------------------------------------------------------------\u001B[0m\n",
       "\u001B[0;31mThe Python process exited with exit code 137 (SIGKILL: Killed). This may have been caused by an OOM error. Check your command's memory usage.\u001B[0m\n",
       "\u001B[0;31m\u001B[0m\n",
       "\u001B[0;31m\u001B[0m\n",
       "\u001B[0;31m\u001B[0m\n",
       "\u001B[0;31mThe last 10 KB of the process's stderr and stdout can be found below. See driver logs for full logs.\u001B[0m\n",
       "\u001B[0;31m---------------------------------------------------------------------------\u001B[0m\n",
       "\u001B[0;31mLast messages on stderr:\u001B[0m\n",
       "\u001B[0;31mMon Feb 17 23:24:10 2025 Connection to spark from PID  4145\u001B[0m\n",
       "\u001B[0;31mMon Feb 17 23:24:10 2025 Initialized gateway on port 40233\u001B[0m\n",
       "\u001B[0;31mMon Feb 17 23:24:10 2025 Connected to spark.\u001B[0m\n",
       "\u001B[0;31m---------------------------------------------------------------------------\u001B[0m\n",
       "\u001B[0;31mLast messages on stdout:\u001B[0m\n",
       "\u001B[0;31mNOTE: When using the `ipython kernel` entry point, Ctrl-C will not work.\u001B[0m\n",
       "\u001B[0;31m\u001B[0m\n",
       "\u001B[0;31mTo exit, you will have to explicitly quit this process, by either sending\u001B[0m\n",
       "\u001B[0;31m\"quit\" from a client, or using Ctrl-\\ in UNIX-like environments.\u001B[0m\n",
       "\u001B[0;31m\u001B[0m\n",
       "\u001B[0;31mTo read more about this, see https://github.com/ipython/ipython/issues/2049\u001B[0m\n",
       "\u001B[0;31m\u001B[0m\n",
       "\u001B[0;31m\u001B[0m\n",
       "\u001B[0;31mTo connect another client to this kernel, use:\u001B[0m\n",
       "\u001B[0;31m    --existing /databricks/kernel-connections/85539ec423739126efc8a9839d4f760f7758b77f537891088d487c6892ff2a1c.json\u001B[0m\n",
       "\u001B[0;31m\u001B[0m\n",
       "\u001B[0;31mDataset with 10,000 records:\u001B[0m\n",
       "\u001B[0;31mMemory usage: 0.83 MB\u001B[0m\n",
       "\u001B[0;31mData creation time: 0.02 seconds\u001B[0m\n",
       "\u001B[0;31m\u001B[0m\n",
       "\u001B[0;31mDataset with 100,000 records:\u001B[0m\n",
       "\u001B[0;31mMemory usage: 8.33 MB\u001B[0m\n",
       "\u001B[0;31mData creation time: 0.23 seconds\u001B[0m\n",
       "\u001B[0;31m\u001B[0m\n",
       "\u001B[0;31mDataset with 1,000,000 records:\u001B[0m\n",
       "\u001B[0;31mMemory usage: 83.35 MB\u001B[0m\n",
       "\u001B[0;31mData creation time: 2.15 seconds\u001B[0m\n",
       "\u001B[0;31mStarting performance comparison...\u001B[0m\n",
       "\u001B[0;31m\u001B[0m\n",
       "\u001B[0;31m\u001B[0m\n",
       "\u001B[0;31mGenerating 1,000,000 records...\u001B[0m\n",
       "\u001B[0;31mRunning Pandas analysis... for 1,000,000 records\u001B[0m\n",
       "\u001B[0;31m      category        mean   count\u001B[0m\n",
       "\u001B[0;31m0        Books   99.984586  200241\u001B[0m\n",
       "\u001B[0;31m1     Clothing   99.903497  200393\u001B[0m\n",
       "\u001B[0;31m2  Electronics   99.956657  200105\u001B[0m\n",
       "\u001B[0;31m3         Food  100.083835  199286\u001B[0m\n",
       "\u001B[0;31m4         Home  100.182453  199975\u001B[0m\n",
       "\u001B[0;31mPandas processing time for 1,000,000 records: 0.06 seconds\u001B[0m\n",
       "\u001B[0;31mPandas Results:\u001B[0m\n",
       "\u001B[0;31m      category        mean   count\u001B[0m\n",
       "\u001B[0;31m0        Books   99.984586  200241\u001B[0m\n",
       "\u001B[0;31m1     Clothing   99.903497  200393\u001B[0m\n",
       "\u001B[0;31m2  Electronics   99.956657  200105\u001B[0m\n",
       "\u001B[0;31m3         Food  100.083835  199286\u001B[0m\n",
       "\u001B[0;31m4         Home  100.182453  199975\u001B[0m\n",
       "\u001B[0;31m\u001B[0m\n",
       "\u001B[0;31mGenerating 10,000,000 records...\u001B[0m\n",
       "\u001B[0;31mRunning Pandas analysis... for 10,000,000 records\u001B[0m\n",
       "\u001B[0;31m      category        mean    count\u001B[0m\n",
       "\u001B[0;31m0        Books   99.918439  2000985\u001B[0m\n",
       "\u001B[0;31m1     Clothing   99.949679  1998906\u001B[0m\n",
       "\u001B[0;31m2  Electronics  100.030881  2000608\u001B[0m\n",
       "\u001B[0;31m3         Food  100.008767  1999477\u001B[0m\n",
       "\u001B[0;31m4         Home   99.952553  2000024\u001B[0m\n",
       "\u001B[0;31mPandas processing time for 10,000,000 records: 0.65 seconds\u001B[0m\n",
       "\u001B[0;31mPandas Results:\u001B[0m\n",
       "\u001B[0;31m      category        mean    count\u001B[0m\n",
       "\u001B[0;31m0        Books   99.918439  2000985\u001B[0m\n",
       "\u001B[0;31m1     Clothing   99.949679  1998906\u001B[0m\n",
       "\u001B[0;31m2  Electronics  100.030881  2000608\u001B[0m\n",
       "\u001B[0;31m3         Food  100.008767  1999477\u001B[0m\n",
       "\u001B[0;31m4         Home   99.952553  2000024\u001B[0m\n",
       "\u001B[0;31m\u001B[0m\n",
       "\u001B[0;31mGenerating 100,000,000 records...\u001B[0m\n",
       "\u001B[0;31mRunning Pandas analysis... for 100,000,000 records\u001B[0m"
      ]
     },
     "metadata": {
      "application/vnd.databricks.v1+output": {
       "arguments": {},
       "data": "\u001B[0;31m---------------------------------------------------------------------------\u001B[0m\n\u001B[0;31mThe Python process exited with exit code 137 (SIGKILL: Killed). This may have been caused by an OOM error. Check your command's memory usage.\u001B[0m\n\u001B[0;31m\u001B[0m\n\u001B[0;31m\u001B[0m\n\u001B[0;31m\u001B[0m\n\u001B[0;31mThe last 10 KB of the process's stderr and stdout can be found below. See driver logs for full logs.\u001B[0m\n\u001B[0;31m---------------------------------------------------------------------------\u001B[0m\n\u001B[0;31mLast messages on stderr:\u001B[0m\n\u001B[0;31mMon Feb 17 23:24:10 2025 Connection to spark from PID  4145\u001B[0m\n\u001B[0;31mMon Feb 17 23:24:10 2025 Initialized gateway on port 40233\u001B[0m\n\u001B[0;31mMon Feb 17 23:24:10 2025 Connected to spark.\u001B[0m\n\u001B[0;31m---------------------------------------------------------------------------\u001B[0m\n\u001B[0;31mLast messages on stdout:\u001B[0m\n\u001B[0;31mNOTE: When using the `ipython kernel` entry point, Ctrl-C will not work.\u001B[0m\n\u001B[0;31m\u001B[0m\n\u001B[0;31mTo exit, you will have to explicitly quit this process, by either sending\u001B[0m\n\u001B[0;31m\"quit\" from a client, or using Ctrl-\\ in UNIX-like environments.\u001B[0m\n\u001B[0;31m\u001B[0m\n\u001B[0;31mTo read more about this, see https://github.com/ipython/ipython/issues/2049\u001B[0m\n\u001B[0;31m\u001B[0m\n\u001B[0;31m\u001B[0m\n\u001B[0;31mTo connect another client to this kernel, use:\u001B[0m\n\u001B[0;31m    --existing /databricks/kernel-connections/85539ec423739126efc8a9839d4f760f7758b77f537891088d487c6892ff2a1c.json\u001B[0m\n\u001B[0;31m\u001B[0m\n\u001B[0;31mDataset with 10,000 records:\u001B[0m\n\u001B[0;31mMemory usage: 0.83 MB\u001B[0m\n\u001B[0;31mData creation time: 0.02 seconds\u001B[0m\n\u001B[0;31m\u001B[0m\n\u001B[0;31mDataset with 100,000 records:\u001B[0m\n\u001B[0;31mMemory usage: 8.33 MB\u001B[0m\n\u001B[0;31mData creation time: 0.23 seconds\u001B[0m\n\u001B[0;31m\u001B[0m\n\u001B[0;31mDataset with 1,000,000 records:\u001B[0m\n\u001B[0;31mMemory usage: 83.35 MB\u001B[0m\n\u001B[0;31mData creation time: 2.15 seconds\u001B[0m\n\u001B[0;31mStarting performance comparison...\u001B[0m\n\u001B[0;31m\u001B[0m\n\u001B[0;31m\u001B[0m\n\u001B[0;31mGenerating 1,000,000 records...\u001B[0m\n\u001B[0;31mRunning Pandas analysis... for 1,000,000 records\u001B[0m\n\u001B[0;31m      category        mean   count\u001B[0m\n\u001B[0;31m0        Books   99.984586  200241\u001B[0m\n\u001B[0;31m1     Clothing   99.903497  200393\u001B[0m\n\u001B[0;31m2  Electronics   99.956657  200105\u001B[0m\n\u001B[0;31m3         Food  100.083835  199286\u001B[0m\n\u001B[0;31m4         Home  100.182453  199975\u001B[0m\n\u001B[0;31mPandas processing time for 1,000,000 records: 0.06 seconds\u001B[0m\n\u001B[0;31mPandas Results:\u001B[0m\n\u001B[0;31m      category        mean   count\u001B[0m\n\u001B[0;31m0        Books   99.984586  200241\u001B[0m\n\u001B[0;31m1     Clothing   99.903497  200393\u001B[0m\n\u001B[0;31m2  Electronics   99.956657  200105\u001B[0m\n\u001B[0;31m3         Food  100.083835  199286\u001B[0m\n\u001B[0;31m4         Home  100.182453  199975\u001B[0m\n\u001B[0;31m\u001B[0m\n\u001B[0;31mGenerating 10,000,000 records...\u001B[0m\n\u001B[0;31mRunning Pandas analysis... for 10,000,000 records\u001B[0m\n\u001B[0;31m      category        mean    count\u001B[0m\n\u001B[0;31m0        Books   99.918439  2000985\u001B[0m\n\u001B[0;31m1     Clothing   99.949679  1998906\u001B[0m\n\u001B[0;31m2  Electronics  100.030881  2000608\u001B[0m\n\u001B[0;31m3         Food  100.008767  1999477\u001B[0m\n\u001B[0;31m4         Home   99.952553  2000024\u001B[0m\n\u001B[0;31mPandas processing time for 10,000,000 records: 0.65 seconds\u001B[0m\n\u001B[0;31mPandas Results:\u001B[0m\n\u001B[0;31m      category        mean    count\u001B[0m\n\u001B[0;31m0        Books   99.918439  2000985\u001B[0m\n\u001B[0;31m1     Clothing   99.949679  1998906\u001B[0m\n\u001B[0;31m2  Electronics  100.030881  2000608\u001B[0m\n\u001B[0;31m3         Food  100.008767  1999477\u001B[0m\n\u001B[0;31m4         Home   99.952553  2000024\u001B[0m\n\u001B[0;31m\u001B[0m\n\u001B[0;31mGenerating 100,000,000 records...\u001B[0m\n\u001B[0;31mRunning Pandas analysis... for 100,000,000 records\u001B[0m",
       "errorSummary": "<span class='ansi-red-fg'>Fatal error</span>: The Python kernel is unresponsive.",
       "errorTraceType": "ansi",
       "metadata": {},
       "type": "ipynbError"
      }
     },
     "output_type": "display_data"
    }
   ],
   "source": [
    "\n",
    "\n",
    "print(\"Starting performance comparison...\\n\")\n",
    "sizes = [1_000_000, 10_000_000, 100_000_000, 1_000_000_000] # 1M (84 MB), 10M (840 MB), 100M (8.4 GB), 1B (84 GB)\n",
    "for size in sizes:\n",
    "    print(f\"\\nGenerating {size:,} records...\")\n",
    "    \n",
    "    # Pandas Analysis\n",
    "    print(f\"Running Pandas analysis... for {size:,} records\")\n",
    "    pandas_df = generate_synthetic_data(size)\n",
    "    pandas_result, pandas_time = pandas_analysis(pandas_df)\n",
    "    print(f\"Pandas processing time for {size:,} records: {pandas_time:.2f} seconds\")\n",
    "    print(\"Pandas Results:\")\n",
    "    print(pandas_result)\n"
   ]
  }
 ],
 "metadata": {
  "application/vnd.databricks.v1+notebook": {
   "computePreferences": null,
   "dashboards": [],
   "environmentMetadata": {
    "base_environment": "",
    "environment_version": "2"
   },
   "language": "python",
   "notebookMetadata": {
    "pythonIndentUnit": 4
   },
   "notebookName": "Pandas Memory Usage",
   "widgets": {}
  },
  "language_info": {
   "name": "python"
  }
 },
 "nbformat": 4,
 "nbformat_minor": 0
}