{
 "cells": [
  {
   "cell_type": "markdown",
   "metadata": {
    "application/vnd.databricks.v1+cell": {
     "cellMetadata": {
      "byteLimit": 2048000,
      "rowLimit": 10000
     },
     "inputWidgets": {},
     "nuid": "f020695a-384e-4fd8-aefb-2281663b94d1",
     "showTitle": false,
     "tableResultSettingsMap": {},
     "title": ""
    }
   },
   "source": [
    "## Importing Libraries"
   ]
  },
  {
   "cell_type": "code",
   "execution_count": 0,
   "metadata": {
    "application/vnd.databricks.v1+cell": {
     "cellMetadata": {
      "byteLimit": 2048000,
      "rowLimit": 10000
     },
     "inputWidgets": {},
     "nuid": "b64040d1-9e02-4f65-aacf-477eb46ab897",
     "showTitle": false,
     "tableResultSettingsMap": {},
     "title": ""
    }
   },
   "outputs": [],
   "source": [
    "import pandas as pd\n",
    "import numpy as np\n",
    "from datetime import datetime, timedelta\n",
    "import time\n",
    "np.random.seed(42)"
   ]
  },
  {
   "cell_type": "markdown",
   "metadata": {
    "application/vnd.databricks.v1+cell": {
     "cellMetadata": {
      "byteLimit": 2048000,
      "rowLimit": 10000
     },
     "inputWidgets": {},
     "nuid": "7e03b4a8-58c2-4fbb-b3e9-73acafbc1bbf",
     "showTitle": false,
     "tableResultSettingsMap": {},
     "title": ""
    }
   },
   "source": [
    "### Pandas memory usage"
   ]
  },
  {
   "cell_type": "code",
   "execution_count": 0,
   "metadata": {
    "application/vnd.databricks.v1+cell": {
     "cellMetadata": {
      "byteLimit": 2048000,
      "rowLimit": 10000
     },
     "inputWidgets": {},
     "nuid": "25546db3-8ff4-482b-bf4b-c18dd9d4467e",
     "showTitle": false,
     "tableResultSettingsMap": {},
     "title": ""
    }
   },
   "outputs": [],
   "source": [
    "def generate_synthetic_data(num_records) -> pd.DataFrame:\n",
    "    \"\"\"\n",
    "    Generates a synthetic dataset of customer transactions.\n",
    "\n",
    "    Args:\n",
    "        num_records (int): The number of records to generate.\n",
    "\n",
    "    Returns:\n",
    "        pd.DataFrame: A DataFrame containing the synthetic data with the following columns:\n",
    "            - customer_id (int): A randomly generated customer ID.\n",
    "            - category (str): A randomly chosen category from a predefined list.\n",
    "            - amount (float): A transaction amount generated from a normal distribution with a mean of 100 and a standard deviation of 50.\n",
    "            - transaction_date (datetime): A transaction date randomly chosen within the last year.\n",
    "    \"\"\" \n",
    "    categories = ['Electronics', 'Clothing', 'Food', 'Books', 'Home']\n",
    "    customer_ids = np.random.randint(1, 10000, num_records)\n",
    "    categories = np.random.choice(categories, num_records)\n",
    "    amounts = np.random.normal(100, 50, num_records)  # Mean of 100, std dev of 50\n",
    "    dates = [datetime.now() - timedelta(days=int(x)) for x in np.random.randint(0, 365, num_records)]\n",
    "\n",
    "    return pd.DataFrame({\n",
    "        'customer_id': customer_ids,\n",
    "        'category': categories,\n",
    "        'amount': amounts,\n",
    "        'transaction_date': dates\n",
    "    })\n"
   ]
  },
  {
   "cell_type": "code",
   "execution_count": 0,
   "metadata": {
    "application/vnd.databricks.v1+cell": {
     "cellMetadata": {
      "byteLimit": 2048000,
      "rowLimit": 10000
     },
     "inputWidgets": {},
     "nuid": "4d282e3a-761c-4617-aabe-dce5ee112ea3",
     "showTitle": false,
     "tableResultSettingsMap": {},
     "title": ""
    }
   },
   "outputs": [],
   "source": [
    "generate_synthetic_data(15)"
   ]
  },
  {
   "cell_type": "code",
   "execution_count": 0,
   "metadata": {
    "application/vnd.databricks.v1+cell": {
     "cellMetadata": {
      "byteLimit": 2048000,
      "rowLimit": 10000
     },
     "inputWidgets": {},
     "nuid": "ae5c85ef-ca6f-434e-bc39-d5bb890dd511",
     "showTitle": false,
     "tableResultSettingsMap": {},
     "title": ""
    }
   },
   "outputs": [],
   "source": [
    "def compare_pandas_storage(sizes: list[int], column_info: bool = False) -> None:\n",
    "    \"\"\"\n",
    "    Compares the memory usage of pandas DataFrames with different sizes of synthetic data.\n",
    "    This function generates synthetic data for various sizes.\n",
    "\n",
    "    The sizes of the datasets are defined in the `sizes` list, and the memory usage is\n",
    "    reported in megabytes (MB).\n",
    "    \"\"\"\n",
    "    for size in sizes:\n",
    "        start_time = time.time()\n",
    "        df = generate_synthetic_data(size)\n",
    "        end_time = time.time()\n",
    "        creation_time = end_time - start_time\n",
    "        \n",
    "        memory_usage = df.memory_usage(deep=True).sum() / (1024 * 1024)  # Convert to MB\n",
    "        print(f\"\\nDataset with {size:,} records:\")\n",
    "        print(f\"Memory usage: {memory_usage:.2f} MB\")\n",
    "        print(f\"Data creation time: {creation_time:.2f} seconds\")\n",
    "        \n",
    "        if column_info:\n",
    "            print(\"\\nMemory usage by column:\")\n",
    "            for column in df.columns:\n",
    "                column_memory = df[column].memory_usage(deep=True) / (1024 * 1024)\n",
    "                print(f\"{column}: {column_memory:.2f} MB\")\n",
    "\n",
    "def pandas_analysis(df):\n",
    "    \"\"\"Perform analysis using Pandas\"\"\"\n",
    "    start_time = time.time()\n",
    "    \n",
    "    # Calculate average amount by category\n",
    "    result = df.groupby('category')['amount'].agg(['mean', 'count']).reset_index()\n",
    "    print(result)\n",
    "    \n",
    "    end_time = time.time()\n",
    "    processing_time = end_time - start_time\n",
    "    \n",
    "    return result, processing_time"
   ]
  },
  {
   "cell_type": "code",
   "execution_count": 0,
   "metadata": {
    "application/vnd.databricks.v1+cell": {
     "cellMetadata": {
      "byteLimit": 2048000,
      "rowLimit": 10000
     },
     "inputWidgets": {},
     "nuid": "894e8802-2a17-4ba6-8afc-4d62d02fdfd8",
     "showTitle": false,
     "tableResultSettingsMap": {},
     "title": ""
    }
   },
   "outputs": [],
   "source": [
    "compare_pandas_storage([10_000, 100_000, 1_000_000])\n"
   ]
  },
  {
   "cell_type": "code",
   "execution_count": 0,
   "metadata": {
    "application/vnd.databricks.v1+cell": {
     "cellMetadata": {
      "byteLimit": 2048000,
      "rowLimit": 10000
     },
     "inputWidgets": {},
     "nuid": "208b3958-f597-4134-84b8-2318c22a7e20",
     "showTitle": false,
     "tableResultSettingsMap": {},
     "title": ""
    }
   },
   "outputs": [],
   "source": [
    "\n",
    "\n",
    "print(\"Starting performance comparison...\\n\")\n",
    "sizes = [1_000_000, 10_000_000, 100_000_000, 1_000_000_000] # 1M (84 MB), 10M (840 MB), 100M (8.4 GB), 1B (84 GB)\n",
    "for size in sizes:\n",
    "    print(f\"\\nGenerating {size:,} records...\")\n",
    "    \n",
    "    # Pandas Analysis\n",
    "    print(f\"Running Pandas analysis... for {size:,} records\")\n",
    "    pandas_df = generate_synthetic_data(size)\n",
    "    pandas_result, pandas_time = pandas_analysis(pandas_df)\n",
    "    print(f\"Pandas processing time for {size:,} records: {pandas_time:.2f} seconds\")\n",
    "    print(\"Pandas Results:\")\n",
    "    print(pandas_result)\n"
   ]
  }
 ],
 "metadata": {
  "application/vnd.databricks.v1+notebook": {
   "computePreferences": null,
   "dashboards": [],
   "environmentMetadata": {
    "base_environment": "",
    "environment_version": "2"
   },
   "language": "python",
   "notebookMetadata": {
    "pythonIndentUnit": 4
   },
   "notebookName": "Pandas Memory Usage",
   "widgets": {}
  },
  "language_info": {
   "name": "python"
  }
 },
 "nbformat": 4,
 "nbformat_minor": 0
}
