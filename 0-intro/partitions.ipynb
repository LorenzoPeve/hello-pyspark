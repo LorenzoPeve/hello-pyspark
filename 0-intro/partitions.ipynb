{
 "cells": [
  {
   "cell_type": "markdown",
   "metadata": {},
   "source": [
    "# Partitions Basics"
   ]
  },
  {
   "cell_type": "markdown",
   "metadata": {},
   "source": [
    "- Partitions are logical divisions of your data\n",
    "- Each node in the cluster contains one or more partitions"
   ]
  },
  {
   "cell_type": "code",
   "execution_count": 31,
   "metadata": {},
   "outputs": [],
   "source": [
    "from pyspark.sql import SparkSession\n",
    "from pyspark.sql.functions import when, col, count, format_number\n",
    "from pyspark.sql import functions as f"
   ]
  },
  {
   "cell_type": "code",
   "execution_count": 32,
   "metadata": {},
   "outputs": [],
   "source": [
    "spark = SparkSession \\\n",
    "    .builder \\\n",
    "    .appName(\"Spark Tutorial\") \\\n",
    "    .master(\"local[4]\") \\\n",
    "    .config(\"spark.driver.host\", \"localhost\") \\\n",
    "    .enableHiveSupport() \\\n",
    "    .getOrCreate()"
   ]
  },
  {
   "cell_type": "code",
   "execution_count": 33,
   "metadata": {},
   "outputs": [
    {
     "data": {
      "text/plain": [
       "'http://localhost:4040'"
      ]
     },
     "execution_count": 33,
     "metadata": {},
     "output_type": "execute_result"
    }
   ],
   "source": [
    "spark.sparkContext.uiWebUrl"
   ]
  },
  {
   "cell_type": "markdown",
   "metadata": {},
   "source": [
    "##### Default Behavior\n",
    "Spark initially distributes based on cores, but that's just the default behavior"
   ]
  },
  {
   "cell_type": "code",
   "execution_count": 46,
   "metadata": {},
   "outputs": [
    {
     "name": "stdout",
     "output_type": "stream",
     "text": [
      "Default parallelism: 4\n"
     ]
    }
   ],
   "source": [
    "print(f\"Default parallelism: {spark.sparkContext.defaultParallelism}\")"
   ]
  },
  {
   "cell_type": "markdown",
   "metadata": {},
   "source": [
    "## Dataset\n",
    "\n",
    "- Synthetic dataset obtained from Kaggle [here](https://www.kaggle.com/datasets/iamsouravbanerjee/airline-dataset/data?select=Airline+Dataset+Updated+-+v2.csv)"
   ]
  },
  {
   "cell_type": "code",
   "execution_count": 35,
   "metadata": {},
   "outputs": [
    {
     "name": "stdout",
     "output_type": "stream",
     "text": [
      "+------------+----------+---------+------+---+--------------------+--------------------+--------------------+--------------+-----------------+-------------+--------------+---------------+-------------------+-------------+\n",
      "|Passenger ID|First Name|Last Name|Gender|Age|         Nationality|        Airport Name|Airport Country Code|  Country Name|Airport Continent|   Continents|Departure Date|Arrival Airport|         Pilot Name|Flight Status|\n",
      "+------------+----------+---------+------+---+--------------------+--------------------+--------------------+--------------+-----------------+-------------+--------------+---------------+-------------------+-------------+\n",
      "|      ABVWIg|    Edithe|   Leggis|Female| 62|               Japan|    Coldfoot Airport|                  US| United States|              NAM|North America|     6/28/2022|            CXF|Fransisco Hazeldine|      On Time|\n",
      "|      jkXXAX|    Elwood|     Catt|  Male| 62|           Nicaragua|   Kugluktuk Airport|                  CA|        Canada|              NAM|North America|    12/26/2022|            YCO|    Marla Parsonage|      On Time|\n",
      "|      CdUz2g|     Darby|  Felgate|  Male| 67|              Russia|Grenoble-Isère Ai...|                  FR|        France|               EU|       Europe|     1/18/2022|            GNB|       Rhonda Amber|      On Time|\n",
      "|      BRS38V|  Dominica|     Pyle|Female| 71|               China|Ottawa / Gatineau...|                  CA|        Canada|              NAM|North America|     9/16/2022|            YND|     Kacie Commucci|      Delayed|\n",
      "|      9kvTLo|       Bay|  Pencost|  Male| 21|               China|     Gillespie Field|                  US| United States|              NAM|North America|     2/25/2022|            SEE|        Ebonee Tree|      On Time|\n",
      "|      nMJKVh|      Lora|  Durbann|Female| 55|              Brazil|Coronel Horácio d...|                  BR|        Brazil|              SAM|South America|    06-10-2022|            LEC|      Inglis Dolley|      On Time|\n",
      "|      8IPFPE|      Rand|     Bram|  Male| 73|         Ivory Coast|   Duxford Aerodrome|                  GB|United Kingdom|               EU|       Europe|    10/30/2022|            QFO|   Stanislas Tiffin|    Cancelled|\n",
      "|      pqixbY|  Perceval| Dallosso|  Male| 36|             Vietnam|Maestro Wilson Fo...|                  BR|        Brazil|              SAM|South America|    04-07-2022|            STM|    Sharyl Eastmead|    Cancelled|\n",
      "|      QNAs2R|     Aleda|   Pigram|Female| 35|Palestinian Terri...|Venice Marco Polo...|                  IT|         Italy|               EU|       Europe|     8/20/2022|            VCE|     Daryn Bardsley|      On Time|\n",
      "|      3jmudz|    Burlie|  Schustl|  Male| 13|            Thailand|   Vermilion Airport|                  CA|        Canada|              NAM|North America|    04-06-2022|            YVG|    Alameda Carlyle|      On Time|\n",
      "+------------+----------+---------+------+---+--------------------+--------------------+--------------------+--------------+-----------------+-------------+--------------+---------------+-------------------+-------------+\n",
      "only showing top 10 rows\n",
      "\n"
     ]
    }
   ],
   "source": [
    "df = spark.read.csv('airlines.csv', header=True, inferSchema=True)\n",
    "df.show(n=10)"
   ]
  },
  {
   "cell_type": "code",
   "execution_count": 36,
   "metadata": {},
   "outputs": [
    {
     "data": {
      "text/plain": [
       "[('Passenger ID', 'string'),\n",
       " ('First Name', 'string'),\n",
       " ('Last Name', 'string'),\n",
       " ('Gender', 'string'),\n",
       " ('Age', 'int'),\n",
       " ('Nationality', 'string'),\n",
       " ('Airport Name', 'string'),\n",
       " ('Airport Country Code', 'string'),\n",
       " ('Country Name', 'string'),\n",
       " ('Airport Continent', 'string'),\n",
       " ('Continents', 'string'),\n",
       " ('Departure Date', 'string'),\n",
       " ('Arrival Airport', 'string'),\n",
       " ('Pilot Name', 'string'),\n",
       " ('Flight Status', 'string')]"
      ]
     },
     "execution_count": 36,
     "metadata": {},
     "output_type": "execute_result"
    }
   ],
   "source": [
    "df.dtypes"
   ]
  },
  {
   "cell_type": "code",
   "execution_count": 37,
   "metadata": {},
   "outputs": [
    {
     "name": "stdout",
     "output_type": "stream",
     "text": [
      "Number of partitions 4\n",
      "Number of rows 98619\n"
     ]
    }
   ],
   "source": [
    "print(f'Number of partitions {df.rdd.getNumPartitions()}')\n",
    "print(f'Number of rows {df.count()}')"
   ]
  },
  {
   "cell_type": "markdown",
   "metadata": {},
   "source": [
    "## Percentage of cancelled fligths"
   ]
  },
  {
   "cell_type": "code",
   "execution_count": 38,
   "metadata": {},
   "outputs": [],
   "source": [
    "def calculate_cancellation_percentages(df):\n",
    "    # Add cancellation flag\n",
    "    df_with_flag = df.withColumn('is_cancelled', \n",
    "        when(col('Flight Status') == 'Cancelled', 1).otherwise(0))\n",
    "    \n",
    "    # Calculate percentages by country\n",
    "    result = df_with_flag.groupBy('Country Name').agg(\n",
    "        (count(when(col('is_cancelled') == 1, True)) / count('*')).alias('cancellation_percentage'),\n",
    "        count('*').alias('total_flights')\n",
    "    )\n",
    "    \n",
    "    # Format and sort results\n",
    "    return result.withColumn(\n",
    "        'cancellation_percentage', \n",
    "        format_number('cancellation_percentage', 2)\n",
    "    ).orderBy('cancellation_percentage', ascending=False)"
   ]
  },
  {
   "cell_type": "code",
   "execution_count": 39,
   "metadata": {},
   "outputs": [
    {
     "name": "stdout",
     "output_type": "stream",
     "text": [
      "+--------------------+-----------------------+-------------+\n",
      "|        Country Name|cancellation_percentage|total_flights|\n",
      "+--------------------+-----------------------+-------------+\n",
      "|             Andorra|                   0.57|            7|\n",
      "|            Barbados|                   0.54|           13|\n",
      "|            Djibouti|                   0.52|           44|\n",
      "|            Anguilla|                   0.50|           14|\n",
      "|Cocos (Keeling) I...|                   0.50|            8|\n",
      "|       Guinea-Bissau|                   0.50|           10|\n",
      "|             Georgia|                   0.49|           35|\n",
      "|             Grenada|                   0.48|           23|\n",
      "|      American Samoa|                   0.47|           45|\n",
      "|                Guam|                   0.46|           26|\n",
      "|             Réunion|                   0.45|           20|\n",
      "|             Hungary|                   0.45|           65|\n",
      "|              Serbia|                   0.44|           43|\n",
      "|               Aruba|                   0.44|            9|\n",
      "|               Macao|                   0.43|           14|\n",
      "|              Kuwait|                   0.43|           23|\n",
      "| Trinidad and Tobago|                   0.43|           23|\n",
      "|             Bermuda|                   0.43|           21|\n",
      "|          Tajikistan|                   0.42|           43|\n",
      "|         Isle of Man|                   0.42|           12|\n",
      "+--------------------+-----------------------+-------------+\n",
      "only showing top 20 rows\n",
      "\n"
     ]
    }
   ],
   "source": [
    "spark.sparkContext.setJobDescription(\"Calculating cancellation percentage for each country\")\n",
    "result = calculate_cancellation_percentages(df)\n",
    "result.show()"
   ]
  },
  {
   "cell_type": "code",
   "execution_count": 40,
   "metadata": {},
   "outputs": [
    {
     "name": "stdout",
     "output_type": "stream",
     "text": [
      "+-------------+-----------------------+-------------+\n",
      "| Country Name|cancellation_percentage|total_flights|\n",
      "+-------------+-----------------------+-------------+\n",
      "|United States|                   0.33|        22104|\n",
      "+-------------+-----------------------+-------------+\n",
      "\n"
     ]
    }
   ],
   "source": [
    "spark.sparkContext.setJobDescription(\"Filtering results for United States\")\n",
    "result.filter(col(\"Country Name\") == \"United States\").show()"
   ]
  },
  {
   "cell_type": "code",
   "execution_count": 41,
   "metadata": {},
   "outputs": [
    {
     "name": "stdout",
     "output_type": "stream",
     "text": [
      "+------------+-----+----------+\n",
      "|partition_id|count|count_perc|\n",
      "+------------+-----+----------+\n",
      "|           0|  235|     100.0|\n",
      "+------------+-----+----------+\n",
      "\n"
     ]
    }
   ],
   "source": [
    "spark.sparkContext.setJobDescription(\"Checking partitions uniformity for source 'result_df'\")\n",
    "\n",
    "def rows_per_partition(sdf) -> None:\n",
    "    sdf_part = sdf.withColumn(\"partition_id\", f.spark_partition_id())\n",
    "    sdf_part_count = sdf_part.groupBy(\"partition_id\").count()\n",
    "    sdf_part_count = sdf_part_count.withColumn(\"count_perc\", 100*f.col(\"count\")/sdf.count())\n",
    "    sdf_part_count.orderBy(\"partition_id\").show()\n",
    "\n",
    "\n",
    "rows_per_partition(result)"
   ]
  },
  {
   "cell_type": "code",
   "execution_count": 42,
   "metadata": {},
   "outputs": [
    {
     "name": "stdout",
     "output_type": "stream",
     "text": [
      "+------------+-----+------------------+\n",
      "|partition_id|count|        count_perc|\n",
      "+------------+-----+------------------+\n",
      "|           0|32795| 33.25424106916517|\n",
      "|           1|32796| 33.25525507255194|\n",
      "|           2|32801|  33.2603250894858|\n",
      "|           3|  227|0.2301787687970878|\n",
      "+------------+-----+------------------+\n",
      "\n"
     ]
    }
   ],
   "source": [
    "spark.sparkContext.setJobDescription(\"Checking partitions uniformity for source 'DF'\")\n",
    "rows_per_partition(df)"
   ]
  },
  {
   "cell_type": "code",
   "execution_count": 43,
   "metadata": {},
   "outputs": [
    {
     "name": "stdout",
     "output_type": "stream",
     "text": [
      "+------------+-----+------------------+\n",
      "|partition_id|count|        count_perc|\n",
      "+------------+-----+------------------+\n",
      "|           0|24655|25.000253500846693|\n",
      "|           1|24655|25.000253500846693|\n",
      "|           2|24654| 24.99923949745992|\n",
      "|           3|24655|25.000253500846693|\n",
      "+------------+-----+------------------+\n",
      "\n"
     ]
    }
   ],
   "source": [
    "spark.sparkContext.setJobDescription(\"Repartitioning the DataFrame\")\n",
    "df_repartitioned = df.repartition(4)\n",
    "rows_per_partition(df_repartitioned)"
   ]
  },
  {
   "cell_type": "code",
   "execution_count": 44,
   "metadata": {},
   "outputs": [
    {
     "name": "stdout",
     "output_type": "stream",
     "text": [
      "+--------------------+-----------------------+-------------+\n",
      "|        Country Name|cancellation_percentage|total_flights|\n",
      "+--------------------+-----------------------+-------------+\n",
      "|             Andorra|                   0.57|            7|\n",
      "|            Barbados|                   0.54|           13|\n",
      "|            Djibouti|                   0.52|           44|\n",
      "|            Anguilla|                   0.50|           14|\n",
      "|Cocos (Keeling) I...|                   0.50|            8|\n",
      "|       Guinea-Bissau|                   0.50|           10|\n",
      "|             Georgia|                   0.49|           35|\n",
      "|             Grenada|                   0.48|           23|\n",
      "|      American Samoa|                   0.47|           45|\n",
      "|                Guam|                   0.46|           26|\n",
      "|             Réunion|                   0.45|           20|\n",
      "|             Hungary|                   0.45|           65|\n",
      "|              Serbia|                   0.44|           43|\n",
      "|               Aruba|                   0.44|            9|\n",
      "|               Macao|                   0.43|           14|\n",
      "|              Kuwait|                   0.43|           23|\n",
      "| Trinidad and Tobago|                   0.43|           23|\n",
      "|             Bermuda|                   0.43|           21|\n",
      "|          Tajikistan|                   0.42|           43|\n",
      "|         Isle of Man|                   0.42|           12|\n",
      "+--------------------+-----------------------+-------------+\n",
      "only showing top 20 rows\n",
      "\n"
     ]
    }
   ],
   "source": [
    "spark.sparkContext.setJobDescription(\"Calculating cancellation percentage for each country - AFTER REPARTITIONING\")\n",
    "result = calculate_cancellation_percentages(df)\n",
    "result.show()"
   ]
  },
  {
   "cell_type": "code",
   "execution_count": null,
   "metadata": {},
   "outputs": [],
   "source": []
  }
 ],
 "metadata": {
  "kernelspec": {
   "display_name": "Python 3",
   "language": "python",
   "name": "python3"
  },
  "language_info": {
   "codemirror_mode": {
    "name": "ipython",
    "version": 3
   },
   "file_extension": ".py",
   "mimetype": "text/x-python",
   "name": "python",
   "nbconvert_exporter": "python",
   "pygments_lexer": "ipython3",
   "version": "3.11.3"
  }
 },
 "nbformat": 4,
 "nbformat_minor": 2
}
